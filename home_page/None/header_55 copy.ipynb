{
 "cells": [
  {
   "cell_type": "code",
   "execution_count": 1,
   "metadata": {},
   "outputs": [
    {
     "name": "stderr",
     "output_type": "stream",
     "text": [
      "c:\\Users\\user\\Desktop\\code\\RAG\\.venv\\Lib\\site-packages\\tqdm\\auto.py:21: TqdmWarning: IProgress not found. Please update jupyter and ipywidgets. See https://ipywidgets.readthedocs.io/en/stable/user_install.html\n",
      "  from .autonotebook import tqdm as notebook_tqdm\n"
     ]
    },
    {
     "name": "stdout",
     "output_type": "stream",
     "text": [
      "* Running on local URL:  http://127.0.0.1:7862\n",
      "\n",
      "To create a public link, set `share=True` in `launch()`.\n"
     ]
    },
    {
     "data": {
      "text/html": [
       "<div><iframe src=\"http://127.0.0.1:7862/\" width=\"100%\" height=\"500\" allow=\"autoplay; camera; microphone; clipboard-read; clipboard-write;\" frameborder=\"0\" allowfullscreen></iframe></div>"
      ],
      "text/plain": [
       "<IPython.core.display.HTML object>"
      ]
     },
     "metadata": {},
     "output_type": "display_data"
    },
    {
     "data": {
      "text/plain": []
     },
     "execution_count": 1,
     "metadata": {},
     "output_type": "execute_result"
    }
   ],
   "source": [
    "import gradio as gr\n",
    "import random\n",
    "import time\n",
    "\n",
    "with gr.Blocks() as demo:\n",
    "    name = gr.Textbox(label=\"Name\")\n",
    "    output = gr.Textbox(label=\"Output Box\")\n",
    "    greet_btn = gr.Button(\"Greet\")\n",
    "    @gr.on([greet_btn.click, name.submit], inputs=name, outputs=output)\n",
    "    def greet(name):\n",
    "        return \"Hello \" + name + \"!\"\n",
    "    \n",
    "    @gr.render(inputs=name, triggers=[output.change])\n",
    "    def spell_out(name):\n",
    "        with gr.Row():\n",
    "            for letter in name:\n",
    "                gr.Textbox(letter)\n",
    "\n",
    "with demo.route(\"Up\") as incrementer_demo:\n",
    "    num = gr.Number()\n",
    "    incrementer_demo.load(lambda: time.sleep(1) or random.randint(10, 40), None, num)\n",
    "\n",
    "    with gr.Row():\n",
    "        inc_btn = gr.Button(\"Increase\")\n",
    "        dec_btn = gr.Button(\"Decrease\")\n",
    "    inc_btn.click(fn=lambda x: x + 1, inputs=num, outputs=num, api_name=\"increment\")\n",
    "    dec_btn.click(fn=lambda x: x - 1, inputs=num, outputs=num, api_name=\"decrement\")\n",
    "    for i in range(100):\n",
    "        gr.Textbox()\n",
    "\n",
    "def wait(x):\n",
    "    time.sleep(2)\n",
    "    return x\n",
    "\n",
    "identity_iface = gr.Interface(wait, \"image\", \"image\")\n",
    "\n",
    "with demo.route(\"Interface\") as incrementer_demo:\n",
    "    identity_iface.render()\n",
    "    gr.Interface(lambda x, y: x * y, [\"number\", \"number\"], \"number\")\n",
    "\n",
    "demo.launch()\n"
   ]
  }
 ],
 "metadata": {
  "kernelspec": {
   "display_name": ".venv",
   "language": "python",
   "name": "python3"
  },
  "language_info": {
   "codemirror_mode": {
    "name": "ipython",
    "version": 3
   },
   "file_extension": ".py",
   "mimetype": "text/x-python",
   "name": "python",
   "nbconvert_exporter": "python",
   "pygments_lexer": "ipython3",
   "version": "3.12.7"
  }
 },
 "nbformat": 4,
 "nbformat_minor": 2
}
