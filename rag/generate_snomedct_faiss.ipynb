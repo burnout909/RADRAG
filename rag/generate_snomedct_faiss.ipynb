{
 "cells": [
  {
   "cell_type": "code",
   "execution_count": 12,
   "metadata": {},
   "outputs": [],
   "source": [
    "import os\n",
    "import pandas as pd\n",
    "from sentence_transformers import SentenceTransformer\n",
    "import faiss\n",
    "from tqdm import tqdm\n",
    "\n",
    "# 경로 설정\n",
    "PROGRAM_PATH = os.path.abspath(os.getcwd())\n",
    "ASSETS_PATH = os.path.join(PROGRAM_PATH, \"assets\")\n",
    "\n",
    "TERMINOLOGY_PATH = os.path.join(ASSETS_PATH, \"dataflattened_terminology.csv\") \n",
    "FAISS_INDEX_PATH = os.path.join(ASSETS_PATH, \"faiss_index_snomed\")\n",
    "\n",
    "# 모델 로드\n",
    "model_name = \"sentence-transformers/all-MiniLM-L12-v2\"\n",
    "model = SentenceTransformer(model_name)"
   ]
  },
  {
   "cell_type": "code",
   "execution_count": 13,
   "metadata": {},
   "outputs": [],
   "source": [
    "# 데이터 로드\n",
    "df_snomed_ct = pd.read_csv(TERMINOLOGY_PATH)\n",
    "concept_names = df_snomed_ct[\"concept_name\"].astype(str).tolist()\n",
    "concept_ids = df_snomed_ct[\"concept_id\"].tolist()\n",
    "\n",
    "concept_type_subset = [\n",
    "    \"procedure\", #top level category\n",
    "    \"body structure\", #top level category\n",
    "    \"finding\", #top level category\n",
    "    \"disorder\", #child of finding\n",
    "    \"morphologic abnomrality\", #child of body structure\n",
    "    \"regime/therapy\", #child of procedure\n",
    "    \"cell structure\", #child of body structure\n",
    "]"
   ]
  },
  {
   "cell_type": "code",
   "execution_count": 14,
   "metadata": {},
   "outputs": [
    {
     "data": {
      "text/plain": [
       "hierarchy\n",
       "disorder                   88804\n",
       "procedure                  56329\n",
       "finding                    36362\n",
       "body structure             36251\n",
       "morphologic abnormality     5143\n",
       "regime/therapy              3165\n",
       "cell structure               519\n",
       "Name: count, dtype: int64"
      ]
     },
     "execution_count": 14,
     "metadata": {},
     "output_type": "execute_result"
    }
   ],
   "source": [
    "df_snomed_ct['hierarchy'].value_counts()"
   ]
  },
  {
   "cell_type": "code",
   "execution_count": 18,
   "metadata": {},
   "outputs": [
    {
     "name": "stdout",
     "output_type": "stream",
     "text": [
      "Embedding 56329 SNOMED terms for 'procedure'...\n"
     ]
    },
    {
     "name": "stderr",
     "output_type": "stream",
     "text": [
      "Batches: 100%|██████████| 881/881 [06:25<00:00,  2.29it/s]\n"
     ]
    },
    {
     "name": "stdout",
     "output_type": "stream",
     "text": [
      "Saved: procedure\n",
      "Embedding 36251 SNOMED terms for 'body structure'...\n"
     ]
    },
    {
     "name": "stderr",
     "output_type": "stream",
     "text": [
      "Batches: 100%|██████████| 567/567 [03:44<00:00,  2.52it/s]\n"
     ]
    },
    {
     "name": "stdout",
     "output_type": "stream",
     "text": [
      "Saved: body structure\n",
      "Embedding 36362 SNOMED terms for 'finding'...\n"
     ]
    },
    {
     "name": "stderr",
     "output_type": "stream",
     "text": [
      "Batches: 100%|██████████| 569/569 [03:27<00:00,  2.74it/s]\n"
     ]
    },
    {
     "name": "stdout",
     "output_type": "stream",
     "text": [
      "Saved: finding\n",
      "Embedding 88804 SNOMED terms for 'disorder'...\n"
     ]
    },
    {
     "name": "stderr",
     "output_type": "stream",
     "text": [
      "Batches: 100%|██████████| 1388/1388 [09:46<00:00,  2.37it/s]\n"
     ]
    },
    {
     "name": "stdout",
     "output_type": "stream",
     "text": [
      "Saved: disorder\n",
      "Embedding 5143 SNOMED terms for 'morphologic abnormality'...\n"
     ]
    },
    {
     "name": "stderr",
     "output_type": "stream",
     "text": [
      "Batches: 100%|██████████| 81/81 [00:38<00:00,  2.09it/s]\n"
     ]
    },
    {
     "name": "stdout",
     "output_type": "stream",
     "text": [
      "Saved: morphologic abnormality\n",
      "Embedding 3165 SNOMED terms for 'regime/therapy'...\n"
     ]
    },
    {
     "name": "stderr",
     "output_type": "stream",
     "text": [
      "Batches: 100%|██████████| 50/50 [00:18<00:00,  2.71it/s]\n"
     ]
    },
    {
     "name": "stdout",
     "output_type": "stream",
     "text": [
      "Saved: regime_therapy\n",
      "Embedding 519 SNOMED terms for 'cell structure'...\n"
     ]
    },
    {
     "name": "stderr",
     "output_type": "stream",
     "text": [
      "Batches: 100%|██████████| 9/9 [00:03<00:00,  2.77it/s]"
     ]
    },
    {
     "name": "stdout",
     "output_type": "stream",
     "text": [
      "Saved: cell structure\n"
     ]
    },
    {
     "name": "stderr",
     "output_type": "stream",
     "text": [
      "\n"
     ]
    }
   ],
   "source": [
    "for concept_type in concept_type_subset:\n",
    "    df_concept_type = df_snomed_ct[df_snomed_ct[\"hierarchy\"] == concept_type]\n",
    "    concept_names = df_concept_type[\"concept_name\"].astype(str).tolist()\n",
    "    concept_ids = df_concept_type[\"concept_id\"].tolist()\n",
    "\n",
    "    print(f\"Embedding {len(concept_names)} SNOMED terms for '{concept_type}'...\")\n",
    "    embeddings = model.encode(concept_names, show_progress_bar=True, batch_size=64)\n",
    "\n",
    "    # FAISS index 생성\n",
    "    dimension = embeddings[0].shape[0]\n",
    "    index = faiss.IndexFlatL2(dimension)\n",
    "    index.add(embeddings)\n",
    "\n",
    "    # 저장 경로 지정\n",
    "    safe_concept_type = concept_type.strip().lower().replace(\"/\", \"_\").replace(\" \", \"_\")\n",
    "    id_map_path = os.path.join(ASSETS_PATH, f\"snomed_id_mapping_{safe_concept_type}.tsv\")\n",
    "    faiss_index_path = os.path.join(ASSETS_PATH, f\"faiss_index_{safe_concept_type}.index\")\n",
    "\n",
    "    # ID 매핑 저장\n",
    "    pd.DataFrame({\n",
    "        \"concept_id\": concept_ids,\n",
    "        \"concept_name\": concept_names\n",
    "    }).to_csv(id_map_path, sep=\"\\t\", index=False)\n",
    "\n",
    "    # FAISS 인덱스 저장\n",
    "    faiss.write_index(index, faiss_index_path)\n",
    "    print(f\"Saved: {safe_concept_type}\")"
   ]
  }
 ],
 "metadata": {
  "kernelspec": {
   "display_name": "snomedct",
   "language": "python",
   "name": "python3"
  },
  "language_info": {
   "codemirror_mode": {
    "name": "ipython",
    "version": 3
   },
   "file_extension": ".py",
   "mimetype": "text/x-python",
   "name": "python",
   "nbconvert_exporter": "python",
   "pygments_lexer": "ipython3",
   "version": "3.11.7"
  }
 },
 "nbformat": 4,
 "nbformat_minor": 2
}
