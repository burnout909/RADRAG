{
 "cells": [
  {
   "cell_type": "markdown",
   "metadata": {},
   "source": [
    "# Import and Asset Define"
   ]
  },
  {
   "cell_type": "code",
   "execution_count": 1,
   "metadata": {},
   "outputs": [
    {
     "name": "stderr",
     "output_type": "stream",
     "text": [
      "c:\\conda\\envs\\snomedct\\Lib\\site-packages\\tqdm\\auto.py:21: TqdmWarning: IProgress not found. Please update jupyter and ipywidgets. See https://ipywidgets.readthedocs.io/en/stable/user_install.html\n",
      "  from .autonotebook import tqdm as notebook_tqdm\n"
     ]
    },
    {
     "data": {
      "text/plain": [
       "True"
      ]
     },
     "execution_count": 1,
     "metadata": {},
     "output_type": "execute_result"
    }
   ],
   "source": [
    "import os \n",
    "import json\n",
    "import requests\n",
    "import pandas as pd \n",
    "from sentence_transformers import SentenceTransformer\n",
    "import faiss\n",
    "from tqdm import tqdm\n",
    "from dotenv import load_dotenv\n",
    "import base64\n",
    "from openai import OpenAI\n",
    "from fpdf import FPDF\n",
    "import textwrap\n",
    "from src.extraction import *\n",
    "# .env 파일 로드\n",
    "load_dotenv()"
   ]
  },
  {
   "cell_type": "code",
   "execution_count": 2,
   "metadata": {},
   "outputs": [],
   "source": [
    "PROGRAM_PATH = os.path.abspath(os.getcwd())\n",
    "ASSETS_PATH = os.path.join(PROGRAM_PATH, \"assets\")\n",
    "UPSTAGE_API_KEY = os.getenv(\"UPSTAGE_API_KEY\")\n",
    "client = OpenAI(\n",
    "    base_url=\"https://api.upstage.ai/v1/information-extraction\",\n",
    "    api_key=UPSTAGE_API_KEY\n",
    ")\n",
    "MIME_TYPE = 'application/pdf'\n",
    "# 모델 로드\n",
    "model_name = \"sentence-transformers/all-MiniLM-L12-v2\"\n",
    "model = SentenceTransformer(model_name)\n",
    "RESPONSE_FORMAT = {\n",
    "        \"type\": \"json_schema\",\n",
    "        \"json_schema\": {\n",
    "            \"name\": \"document_schema\",\n",
    "            \"schema\": {\n",
    "                \"type\": \"object\",\n",
    "                \"properties\": {\n",
    "                    \"procedure\": {\n",
    "                        \"type\": \"string\",\n",
    "                        \"description\": \"Type of imaging study performed.\"\n",
    "                    },\n",
    "                    \"finding\": {\n",
    "                        \"type\": \"string\",\n",
    "                        \"description\": \"Clinical observations or results identified during examination or testing.\"\n",
    "                    },\n",
    "                    \"body_structure\": {\n",
    "                        \"type\": \"string\",\n",
    "                        \"description\": \"body part examined\"\n",
    "                    },\n",
    "                    \"disorder\": {\n",
    "                        \"type\": \"string\",\n",
    "                        \"description\": \"Diseases or pathological conditions diagnosed or suspected in a patient. Usually find in impression of Radiology text\"\n",
    "                    },\n",
    "                    \"morphologic_abnormality\": {\n",
    "                        \"type\": \"string\",\n",
    "                        \"description\": \"Structural abnormalities or deviations in tissue or organ morphology.\"\n",
    "                    },\n",
    "                    \"regime_therapy\": {\n",
    "                        \"type\": \"string\",\n",
    "                        \"description\": \"Planned treatments or therapeutic programs administered to a patient.\"\n",
    "                    },\n",
    "                    \"cell_structure\": {\n",
    "                        \"type\": \"string\",\n",
    "                        \"description\": \"Microscopic structural components found within cells or tissues.\"\n",
    "                    }\n",
    "                },\n",
    "                \"required\": [\n",
    "                    \"procedure\",\n",
    "                    \"finding\",\n",
    "                    \"body_structure\",\n",
    "                    \"disorder\",\n",
    "                    \"morphologic_abnormality\",\n",
    "                    \"regime_therapy\",\n",
    "                    \"cell_structure\"\n",
    "                ]\n",
    "            }\n",
    "        }\n",
    "    }\n",
    "\n",
    "def message_formatter(coded):\n",
    "    return ([\n",
    "        {\n",
    "            \"role\": \"user\",\n",
    "            \"content\": [\n",
    "                {\n",
    "                    \"type\": \"image_url\",\n",
    "                    \"image_url\": {\"url\": f\"data:{MIME_TYPE};base64,{coded}\"},\n",
    "                },\n",
    "            ],\n",
    "        }\n",
    "    ])\n"
   ]
  },
  {
   "cell_type": "code",
   "execution_count": 3,
   "metadata": {},
   "outputs": [],
   "source": [
    "def extraction_and_mapping(text_input):\n",
    "    #file 형식 맞추기\n",
    "    pdf_path = text_to_pdf(text_input)\n",
    "    base64_encoded = encode_to_base64(pdf_path)\n",
    "    \n",
    "    # Information Extraction\n",
    "    extraction_response = client.chat.completions.create(\n",
    "        model=\"information-extract\",\n",
    "        messages=message_formatter(base64_encoded),\n",
    "        response_format=RESPONSE_FORMAT,\n",
    "    )\n",
    "    output_json = json.loads(extraction_response.choices[0].message.content)\n",
    "    df = mapping(output_json, ASSETS_PATH, model)\n",
    "    return df"
   ]
  },
  {
   "cell_type": "code",
   "execution_count": 4,
   "metadata": {},
   "outputs": [
    {
     "name": "stdout",
     "output_type": "stream",
     "text": [
      "* Running on local URL:  http://127.0.0.1:7860\n",
      "\n",
      "To create a public link, set `share=True` in `launch()`.\n"
     ]
    },
    {
     "data": {
      "text/html": [
       "<div><iframe src=\"http://127.0.0.1:7860/\" width=\"100%\" height=\"500\" allow=\"autoplay; camera; microphone; clipboard-read; clipboard-write;\" frameborder=\"0\" allowfullscreen></iframe></div>"
      ],
      "text/plain": [
       "<IPython.core.display.HTML object>"
      ]
     },
     "metadata": {},
     "output_type": "display_data"
    },
    {
     "data": {
      "text/plain": []
     },
     "execution_count": 4,
     "metadata": {},
     "output_type": "execute_result"
    }
   ],
   "source": [
    "import gradio as gr\n",
    "\n",
    "demo = gr.Interface(\n",
    "    fn=extraction_and_mapping,\n",
    "    inputs=gr.Textbox(\n",
    "        label=\"Input Text (예: 판독문 등)\",\n",
    "        lines=15,\n",
    "        placeholder=\"여기에 Radiology 판독문 입력...\"\n",
    "    ),\n",
    "    outputs=gr.Dataframe(\n",
    "        headers=[\"Hierarchy\", \"Input Description\", \"Match #\", \"Concept Name\", \"Concept ID\"],\n",
    "        label=\"SNOMED 매핑 결과\",\n",
    "        wrap=True\n",
    "    ),\n",
    "    title=\"🧠 SNOMED CT Term Mapping Assistant\",\n",
    "    description=\"자연어 판독문을 SNOMED CT 개념으로 자동 매핑합니다. Upstage Information Extraction API 기반\"\n",
    ")\n",
    "\n",
    "demo.launch()\n"
   ]
  },
  {
   "cell_type": "markdown",
   "metadata": {},
   "source": [
    "# Text Input"
   ]
  },
  {
   "cell_type": "code",
   "execution_count": null,
   "metadata": {},
   "outputs": [],
   "source": [
    "# 사용자 입력\n",
    "text = \"\"\"Chest PA-Lat XR\n",
    " Imaging Study\n",
    " Xray Chest PA and Lateral\n",
    " Exam: 2 views of the chest XXXX/XXXX.\n",
    " Comparison: None.\n",
    " Indication: Positive TB test\n",
    " Findings:\n",
    " The cardiac silhouette and mediastinum size are within normal limits.\n",
    " There is no pulmonary edema. There is no focal consolidation. There\n",
    " are no XXXX of a pleural effusion. There is no evidence of\n",
    " pneumothorax.\n",
    " Impression:\n",
    " Normal chest x-XXXX.\n",
    " This examination and reported findings have been reviewed and\n",
    " confirmed by the undersigned\"\"\""
   ]
  }
 ],
 "metadata": {
  "kernelspec": {
   "display_name": "snomedct",
   "language": "python",
   "name": "python3"
  },
  "language_info": {
   "codemirror_mode": {
    "name": "ipython",
    "version": 3
   },
   "file_extension": ".py",
   "mimetype": "text/x-python",
   "name": "python",
   "nbconvert_exporter": "python",
   "pygments_lexer": "ipython3",
   "version": "3.11.7"
  }
 },
 "nbformat": 4,
 "nbformat_minor": 2
}
