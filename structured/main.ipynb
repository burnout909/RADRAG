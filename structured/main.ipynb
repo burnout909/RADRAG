{
 "cells": [
  {
   "cell_type": "markdown",
   "metadata": {},
   "source": [
    "## import"
   ]
  },
  {
   "cell_type": "code",
   "execution_count": 1,
   "metadata": {},
   "outputs": [],
   "source": [
    "import base64\n",
    "import json\n",
    "import requests\n",
    "import time\n",
    "import os"
   ]
  },
  {
   "cell_type": "markdown",
   "metadata": {},
   "source": [
    "## Install pdf"
   ]
  },
  {
   "cell_type": "markdown",
   "metadata": {},
   "source": [
    "## API setting"
   ]
  },
  {
   "cell_type": "code",
   "execution_count": 4,
   "metadata": {},
   "outputs": [],
   "source": [
    "from dotenv import load_dotenv\n",
    "\n",
    "# .env 파일 로드\n",
    "load_dotenv()\n",
    "\n",
    "# 키 가져오기\n",
    "API_KEY = os.getenv(\"UPSTAGE_API_KEY\")\n",
    "\n",
    "SCHEMA_API_URL = \"https://api.upstage.ai/v1/information-extraction/schema-generation\"\n",
    "EXTRACTION_API_URL = \"https://api.upstage.ai/v1/information-extraction\"\n",
    "\n",
    "HEADERS = {\n",
    "    \"Authorization\": f\"Bearer {API_KEY}\",\n",
    "    \"Content-Type\": \"application/json\"\n",
    "}"
   ]
  },
  {
   "cell_type": "markdown",
   "metadata": {},
   "source": [
    "## Input Data"
   ]
  },
  {
   "cell_type": "code",
   "execution_count": 5,
   "metadata": {},
   "outputs": [],
   "source": [
    "user_input = \"\"\"Chest PA-Lat XR\n",
    " Imaging Study\n",
    " Xray Chest PA and Lateral\n",
    " Exam: 2 views of the chest XXXX/XXXX.\n",
    " Comparison: None.\n",
    " Indication: Positive TB test\n",
    " Findings:\n",
    " The cardiac silhouette and mediastinum size are within normal limits.\n",
    " There is no pulmonary edema. There is no focal consolidation. There\n",
    " are no XXXX of a pleural effusion. There is no evidence of\n",
    " pneumothorax.\n",
    " Impression:\n",
    " Normal chest x-XXXX.\n",
    " This examination and reported findings have been reviewed and\n",
    " confirmed by the undersigned\"\"\""
   ]
  },
  {
   "cell_type": "markdown",
   "metadata": {},
   "source": [
    "## Data processing (PDF)"
   ]
  },
  {
   "cell_type": "code",
   "execution_count": 6,
   "metadata": {},
   "outputs": [],
   "source": [
    "from fpdf import FPDF\n",
    "import textwrap\n",
    "\n",
    "def text_to_pdf(text, pdf_path=\"user_input.pdf\"):\n",
    "    pdf = FPDF()\n",
    "    pdf.add_page()\n",
    "    pdf.set_font(\"Helvetica\", size=12)\n",
    "\n",
    "    # 텍스트를 줄바꿈 포함하여 100자 단위로 자름\n",
    "    lines = []\n",
    "    for line in text.split('\\n'):\n",
    "        wrapped = textwrap.wrap(line, width=100)\n",
    "        lines.extend(wrapped if wrapped else [\" \"])  # 빈 줄 유지\n",
    "\n",
    "    # 각 줄을 PDF에 cell로 출력\n",
    "    for line in lines:\n",
    "        pdf.cell(0, 10, line, ln=True)\n",
    "\n",
    "    pdf.output(pdf_path)\n",
    "    return pdf_path\n"
   ]
  },
  {
   "cell_type": "code",
   "execution_count": 7,
   "metadata": {},
   "outputs": [],
   "source": [
    "import base64\n",
    "\n",
    "def encode_pdf_to_base64(pdf_path):\n",
    "    with open(pdf_path, \"rb\") as f:\n",
    "        pdf_bytes = f.read()\n",
    "        return base64.b64encode(pdf_bytes).decode(\"utf-8\")\n"
   ]
  },
  {
   "cell_type": "code",
   "execution_count": 8,
   "metadata": {},
   "outputs": [
    {
     "name": "stderr",
     "output_type": "stream",
     "text": [
      "/var/folders/p5/v_8qtzh51b3552yphq1ldfsm0000gn/T/ipykernel_74986/2608264744.py:17: DeprecationWarning: The parameter \"ln\" is deprecated since v2.5.2. Instead of ln=True use new_x=XPos.LMARGIN, new_y=YPos.NEXT.\n",
      "  pdf.cell(0, 10, line, ln=True)\n"
     ]
    }
   ],
   "source": [
    "pdf_path = text_to_pdf(user_input)\n",
    "base64_pdf = encode_pdf_to_base64(pdf_path)\n"
   ]
  },
  {
   "cell_type": "markdown",
   "metadata": {},
   "source": [
    "## Automatic schema generation"
   ]
  },
  {
   "cell_type": "code",
   "execution_count": 9,
   "metadata": {},
   "outputs": [
    {
     "name": "stdout",
     "output_type": "stream",
     "text": [
      "자동 스키마 생성 요청 중...\n"
     ]
    }
   ],
   "source": [
    "schema_payload = {\n",
    "    \"model\": \"information-extract\",  \n",
    "    \"messages\": [\n",
    "        {\n",
    "            \"role\": \"user\",\n",
    "            \"content\": [\n",
    "                {\n",
    "                    \"type\": \"image_url\", \n",
    "                    # 파일의 MIME 타입을 application/pdf로 지정\n",
    "                    \"image_url\": {\"url\": f\"data:application/pdf;base64,{base64_pdf}\"}\n",
    "                }\n",
    "            ]\n",
    "        }\n",
    "    ]\n",
    "}\n",
    "\n",
    "print(\"자동 스키마 생성 요청 중...\")\n",
    "schema_response = requests.post(SCHEMA_API_URL, headers=HEADERS, json=schema_payload)"
   ]
  },
  {
   "cell_type": "code",
   "execution_count": 10,
   "metadata": {},
   "outputs": [
    {
     "name": "stdout",
     "output_type": "stream",
     "text": [
      "자동 생성된 스키마:\n",
      "{\n",
      "  \"type\": \"json_schema\",\n",
      "  \"json_schema\": {\n",
      "    \"name\": \"document_schema\",\n",
      "    \"schema\": {\n",
      "      \"type\": \"object\",\n",
      "      \"properties\": {\n",
      "        \"studyType\": {\n",
      "          \"type\": \"string\",\n",
      "          \"description\": \"Type of imaging study performed.\"\n",
      "        },\n",
      "        \"examDescription\": {\n",
      "          \"type\": \"string\",\n",
      "          \"description\": \"Description of the exam conducted.\"\n",
      "        },\n",
      "        \"comparison\": {\n",
      "          \"type\": \"string\",\n",
      "          \"description\": \"Comparison with previous studies, if any.\"\n",
      "        },\n",
      "        \"indication\": {\n",
      "          \"type\": \"string\",\n",
      "          \"description\": \"Reason for the imaging study.\"\n",
      "        },\n",
      "        \"findings\": {\n",
      "          \"type\": \"string\",\n",
      "          \"description\": \"Detailed findings from the imaging study.\"\n",
      "        },\n",
      "        \"impression\": {\n",
      "          \"type\": \"string\",\n",
      "          \"description\": \"Summary impression based on the findings.\"\n",
      "        },\n",
      "        \"reviewedBy\": {\n",
      "          \"type\": \"boolean\",\n",
      "          \"description\": \"Indicates if the findings have been reviewed by a qualified professional.\"\n",
      "        }\n",
      "      },\n",
      "      \"required\": [\n",
      "        \"studyType\",\n",
      "        \"examDescription\",\n",
      "        \"comparison\",\n",
      "        \"indication\",\n",
      "        \"findings\",\n",
      "        \"impression\",\n",
      "        \"reviewedBy\"\n",
      "      ]\n",
      "    }\n",
      "  }\n",
      "}\n"
     ]
    }
   ],
   "source": [
    "if schema_response.status_code == 200:\n",
    "    schema_json = schema_response.json()\n",
    "    # 응답 형식은 OpenAI Chat Completion Object와 유사하며, \n",
    "    # 자동 생성된 스키마는 choices[0].message.content에 문자열화된 JSON으로 포함되어 있습니다.\n",
    "    schema_str = schema_json[\"choices\"][0][\"message\"][\"content\"]\n",
    "    schema_generated = json.loads(schema_str)\n",
    "    print(\"자동 생성된 스키마:\")\n",
    "    print(json.dumps(schema_generated, indent=2, ensure_ascii=False))\n",
    "else:\n",
    "    print(f\"스키마 생성 실패, 상태 코드: {schema_response.status_code}\")\n",
    "    print(schema_response.text)\n",
    "    schema_generated = None"
   ]
  },
  {
   "cell_type": "markdown",
   "metadata": {},
   "source": [
    "## Requset"
   ]
  },
  {
   "cell_type": "code",
   "execution_count": 11,
   "metadata": {},
   "outputs": [
    {
     "name": "stdout",
     "output_type": "stream",
     "text": [
      "정보 추출 요청 중...\n",
      "추출된 정보:\n",
      "{\n",
      "  \"studyType\": \"Xray Chest PA and Lateral\",\n",
      "  \"examDescription\": \"2 views of the chest X x.\",\n",
      "  \"comparison\": \"None.\",\n",
      "  \"indication\": \"Positive TB test\",\n",
      "  \"findings\": \"The cardiac silhouette and mediastinum size are within normal limits. There is no pulmonary edema. There is no focal consolidation. There are no XXXX of a pleural effusion. There is no evidence of pneumothorax.\",\n",
      "  \"impression\": \"Normal chest x-XXXX.\",\n",
      "  \"reviewedBy\": true\n",
      "}\n"
     ]
    }
   ],
   "source": [
    "if schema_generated:\n",
    "    extraction_payload = {\n",
    "        \"model\": \"information-extract\",  # 동일한 모델 사용\n",
    "        \"messages\": [\n",
    "            {\n",
    "                \"role\": \"user\",\n",
    "                \"content\": [\n",
    "                    {\n",
    "                        \"type\": \"image_url\",\n",
    "                        \"image_url\": {\"url\": f\"data:application/pdf;base64,{base64_pdf}\"}\n",
    "                    }\n",
    "                ]\n",
    "            }\n",
    "        ],\n",
    "        \"response_format\": schema_generated  # 자동 생성된 스키마 적용\n",
    "    }\n",
    "    \n",
    "    print(\"정보 추출 요청 중...\")\n",
    "    extraction_response = requests.post(EXTRACTION_API_URL, headers=HEADERS, json=extraction_payload)\n",
    "    \n",
    "    if extraction_response.status_code == 200:\n",
    "        extraction_json = extraction_response.json()\n",
    "        extraction_str = extraction_json[\"choices\"][0][\"message\"][\"content\"]\n",
    "        extracted_info = json.loads(extraction_str)\n",
    "        print(\"추출된 정보:\")\n",
    "        print(json.dumps(extracted_info, indent=2, ensure_ascii=False))\n",
    "    else:\n",
    "        print(f\"정보 추출 요청 실패, 상태 코드: {extraction_response.status_code}\")\n",
    "        print(extraction_response.text)\n",
    "else:\n",
    "    print(\"자동 스키마 생성이 실패하여 정보 추출을 진행할 수 없습니다.\")"
   ]
  }
 ],
 "metadata": {
  "kernelspec": {
   "display_name": "snomedct",
   "language": "python",
   "name": "python3"
  },
  "language_info": {
   "codemirror_mode": {
    "name": "ipython",
    "version": 3
   },
   "file_extension": ".py",
   "mimetype": "text/x-python",
   "name": "python",
   "nbconvert_exporter": "python",
   "pygments_lexer": "ipython3",
   "version": "3.11.7"
  }
 },
 "nbformat": 4,
 "nbformat_minor": 2
}
